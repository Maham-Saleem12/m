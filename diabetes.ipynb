{
  "nbformat": 4,
  "nbformat_minor": 0,
  "metadata": {
    "colab": {
      "name": "Ann proj.ipynb",
      "provenance": [],
      "collapsed_sections": [],
      "authorship_tag": "ABX9TyNqOY7zxk7h/YPAnhp6pwg/",
      "include_colab_link": true
    },
    "kernelspec": {
      "name": "python3",
      "display_name": "Python 3"
    },
    "language_info": {
      "name": "python"
    }
  },
  "cells": [
    {
      "cell_type": "markdown",
      "metadata": {
        "id": "view-in-github",
        "colab_type": "text"
      },
      "source": [
        "<a href=\"https://colab.research.google.com/github/Maham-Saleem12/m/blob/main/diabetes.ipynb\" target=\"_parent\"><img src=\"https://colab.research.google.com/assets/colab-badge.svg\" alt=\"Open In Colab\"/></a>"
      ]
    },
    {
      "cell_type": "code",
      "metadata": {
        "colab": {
          "resources": {
            "http://localhost:8080/nbextensions/google.colab/files.js": {
              "data": "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",
              "ok": true,
              "headers": [
                [
                  "content-type",
                  "application/javascript"
                ]
              ],
              "status": 200,
              "status_text": ""
            }
          },
          "base_uri": "https://localhost:8080/",
          "height": 72
        },
        "id": "m74rNPkGoe7s",
        "outputId": "e8f7e91c-6e6f-4e51-8661-dad1cad8c3ea"
      },
      "source": [
        "from google.colab import files\n",
        "uploaded = files.upload()"
      ],
      "execution_count": 1,
      "outputs": [
        {
          "output_type": "display_data",
          "data": {
            "text/html": [
              "\n",
              "     <input type=\"file\" id=\"files-1566a560-f537-47a6-99f8-900caf8adf47\" name=\"files[]\" multiple disabled\n",
              "        style=\"border:none\" />\n",
              "     <output id=\"result-1566a560-f537-47a6-99f8-900caf8adf47\">\n",
              "      Upload widget is only available when the cell has been executed in the\n",
              "      current browser session. Please rerun this cell to enable.\n",
              "      </output>\n",
              "      <script src=\"/nbextensions/google.colab/files.js\"></script> "
            ],
            "text/plain": [
              "<IPython.core.display.HTML object>"
            ]
          },
          "metadata": {
            "tags": []
          }
        },
        {
          "output_type": "stream",
          "text": [
            "Saving diabetes-dataset.csv to diabetes-dataset.csv\n"
          ],
          "name": "stdout"
        }
      ]
    },
    {
      "cell_type": "code",
      "metadata": {
        "id": "Y3pV2-THoFLC"
      },
      "source": [
        "import io\n",
        "import pandas as pd\n",
        "\n",
        "dataset = pd.read_csv('diabetes-dataset.csv')"
      ],
      "execution_count": 2,
      "outputs": []
    },
    {
      "cell_type": "code",
      "metadata": {
        "colab": {
          "base_uri": "https://localhost:8080/",
          "height": 419
        },
        "id": "X88hhOQCosq0",
        "outputId": "456566c8-f9fa-4e25-b04c-fe23157b975e"
      },
      "source": [
        "dataset"
      ],
      "execution_count": 3,
      "outputs": [
        {
          "output_type": "execute_result",
          "data": {
            "text/html": [
              "<div>\n",
              "<style scoped>\n",
              "    .dataframe tbody tr th:only-of-type {\n",
              "        vertical-align: middle;\n",
              "    }\n",
              "\n",
              "    .dataframe tbody tr th {\n",
              "        vertical-align: top;\n",
              "    }\n",
              "\n",
              "    .dataframe thead th {\n",
              "        text-align: right;\n",
              "    }\n",
              "</style>\n",
              "<table border=\"1\" class=\"dataframe\">\n",
              "  <thead>\n",
              "    <tr style=\"text-align: right;\">\n",
              "      <th></th>\n",
              "      <th>Pregnancies</th>\n",
              "      <th>Glucose</th>\n",
              "      <th>BloodPressure</th>\n",
              "      <th>SkinThickness</th>\n",
              "      <th>Insulin</th>\n",
              "      <th>BMI</th>\n",
              "      <th>DiabetesPedigreeFunction</th>\n",
              "      <th>Age</th>\n",
              "      <th>Outcome</th>\n",
              "    </tr>\n",
              "  </thead>\n",
              "  <tbody>\n",
              "    <tr>\n",
              "      <th>0</th>\n",
              "      <td>2</td>\n",
              "      <td>138</td>\n",
              "      <td>62</td>\n",
              "      <td>35</td>\n",
              "      <td>0</td>\n",
              "      <td>33.6</td>\n",
              "      <td>0.127</td>\n",
              "      <td>47</td>\n",
              "      <td>1</td>\n",
              "    </tr>\n",
              "    <tr>\n",
              "      <th>1</th>\n",
              "      <td>0</td>\n",
              "      <td>84</td>\n",
              "      <td>82</td>\n",
              "      <td>31</td>\n",
              "      <td>125</td>\n",
              "      <td>38.2</td>\n",
              "      <td>0.233</td>\n",
              "      <td>23</td>\n",
              "      <td>0</td>\n",
              "    </tr>\n",
              "    <tr>\n",
              "      <th>2</th>\n",
              "      <td>0</td>\n",
              "      <td>145</td>\n",
              "      <td>0</td>\n",
              "      <td>0</td>\n",
              "      <td>0</td>\n",
              "      <td>44.2</td>\n",
              "      <td>0.630</td>\n",
              "      <td>31</td>\n",
              "      <td>1</td>\n",
              "    </tr>\n",
              "    <tr>\n",
              "      <th>3</th>\n",
              "      <td>0</td>\n",
              "      <td>135</td>\n",
              "      <td>68</td>\n",
              "      <td>42</td>\n",
              "      <td>250</td>\n",
              "      <td>42.3</td>\n",
              "      <td>0.365</td>\n",
              "      <td>24</td>\n",
              "      <td>1</td>\n",
              "    </tr>\n",
              "    <tr>\n",
              "      <th>4</th>\n",
              "      <td>1</td>\n",
              "      <td>139</td>\n",
              "      <td>62</td>\n",
              "      <td>41</td>\n",
              "      <td>480</td>\n",
              "      <td>40.7</td>\n",
              "      <td>0.536</td>\n",
              "      <td>21</td>\n",
              "      <td>0</td>\n",
              "    </tr>\n",
              "    <tr>\n",
              "      <th>...</th>\n",
              "      <td>...</td>\n",
              "      <td>...</td>\n",
              "      <td>...</td>\n",
              "      <td>...</td>\n",
              "      <td>...</td>\n",
              "      <td>...</td>\n",
              "      <td>...</td>\n",
              "      <td>...</td>\n",
              "      <td>...</td>\n",
              "    </tr>\n",
              "    <tr>\n",
              "      <th>1995</th>\n",
              "      <td>2</td>\n",
              "      <td>75</td>\n",
              "      <td>64</td>\n",
              "      <td>24</td>\n",
              "      <td>55</td>\n",
              "      <td>29.7</td>\n",
              "      <td>0.370</td>\n",
              "      <td>33</td>\n",
              "      <td>0</td>\n",
              "    </tr>\n",
              "    <tr>\n",
              "      <th>1996</th>\n",
              "      <td>8</td>\n",
              "      <td>179</td>\n",
              "      <td>72</td>\n",
              "      <td>42</td>\n",
              "      <td>130</td>\n",
              "      <td>32.7</td>\n",
              "      <td>0.719</td>\n",
              "      <td>36</td>\n",
              "      <td>1</td>\n",
              "    </tr>\n",
              "    <tr>\n",
              "      <th>1997</th>\n",
              "      <td>6</td>\n",
              "      <td>85</td>\n",
              "      <td>78</td>\n",
              "      <td>0</td>\n",
              "      <td>0</td>\n",
              "      <td>31.2</td>\n",
              "      <td>0.382</td>\n",
              "      <td>42</td>\n",
              "      <td>0</td>\n",
              "    </tr>\n",
              "    <tr>\n",
              "      <th>1998</th>\n",
              "      <td>0</td>\n",
              "      <td>129</td>\n",
              "      <td>110</td>\n",
              "      <td>46</td>\n",
              "      <td>130</td>\n",
              "      <td>67.1</td>\n",
              "      <td>0.319</td>\n",
              "      <td>26</td>\n",
              "      <td>1</td>\n",
              "    </tr>\n",
              "    <tr>\n",
              "      <th>1999</th>\n",
              "      <td>2</td>\n",
              "      <td>81</td>\n",
              "      <td>72</td>\n",
              "      <td>15</td>\n",
              "      <td>76</td>\n",
              "      <td>30.1</td>\n",
              "      <td>0.547</td>\n",
              "      <td>25</td>\n",
              "      <td>0</td>\n",
              "    </tr>\n",
              "  </tbody>\n",
              "</table>\n",
              "<p>2000 rows × 9 columns</p>\n",
              "</div>"
            ],
            "text/plain": [
              "      Pregnancies  Glucose  ...  Age  Outcome\n",
              "0               2      138  ...   47        1\n",
              "1               0       84  ...   23        0\n",
              "2               0      145  ...   31        1\n",
              "3               0      135  ...   24        1\n",
              "4               1      139  ...   21        0\n",
              "...           ...      ...  ...  ...      ...\n",
              "1995            2       75  ...   33        0\n",
              "1996            8      179  ...   36        1\n",
              "1997            6       85  ...   42        0\n",
              "1998            0      129  ...   26        1\n",
              "1999            2       81  ...   25        0\n",
              "\n",
              "[2000 rows x 9 columns]"
            ]
          },
          "metadata": {
            "tags": []
          },
          "execution_count": 3
        }
      ]
    },
    {
      "cell_type": "code",
      "metadata": {
        "id": "IfXHiJfdo6_z"
      },
      "source": [
        "df = dataset.values #convert our dataframe into array"
      ],
      "execution_count": 4,
      "outputs": []
    },
    {
      "cell_type": "code",
      "metadata": {
        "colab": {
          "base_uri": "https://localhost:8080/"
        },
        "id": "tsPqrHDypFTL",
        "outputId": "fcf63851-138b-4a4b-9252-02072fbf6f3f"
      },
      "source": [
        "\n",
        "df"
      ],
      "execution_count": 5,
      "outputs": [
        {
          "output_type": "execute_result",
          "data": {
            "text/plain": [
              "array([[2.00e+00, 1.38e+02, 6.20e+01, ..., 1.27e-01, 4.70e+01, 1.00e+00],\n",
              "       [0.00e+00, 8.40e+01, 8.20e+01, ..., 2.33e-01, 2.30e+01, 0.00e+00],\n",
              "       [0.00e+00, 1.45e+02, 0.00e+00, ..., 6.30e-01, 3.10e+01, 1.00e+00],\n",
              "       ...,\n",
              "       [6.00e+00, 8.50e+01, 7.80e+01, ..., 3.82e-01, 4.20e+01, 0.00e+00],\n",
              "       [0.00e+00, 1.29e+02, 1.10e+02, ..., 3.19e-01, 2.60e+01, 1.00e+00],\n",
              "       [2.00e+00, 8.10e+01, 7.20e+01, ..., 5.47e-01, 2.50e+01, 0.00e+00]])"
            ]
          },
          "metadata": {
            "tags": []
          },
          "execution_count": 5
        }
      ]
    },
    {
      "cell_type": "code",
      "metadata": {
        "id": "OnroA-oYppp4"
      },
      "source": [
        "#split our dataset into X input features and y(predict/label)\n",
        "X = df[:,0:8]\n",
        "Y = df[:,8]"
      ],
      "execution_count": 7,
      "outputs": []
    },
    {
      "cell_type": "code",
      "metadata": {
        "id": "E8QM7OwFrnCS"
      },
      "source": [
        "#preprocess our dataset/scale/normalize our ds\n",
        "from sklearn.preprocessing import StandardScaler\n",
        "sc = StandardScaler()\n",
        "X = sc.fit_transform(X)"
      ],
      "execution_count": 8,
      "outputs": []
    },
    {
      "cell_type": "code",
      "metadata": {
        "colab": {
          "base_uri": "https://localhost:8080/"
        },
        "id": "lNqHgf8FrvcZ",
        "outputId": "46103423-cfe3-46a4-9f60-065823523d45"
      },
      "source": [
        "X"
      ],
      "execution_count": 9,
      "outputs": [
        {
          "output_type": "execute_result",
          "data": {
            "text/plain": [
              "array([[-0.5153943 ,  0.52455322, -0.37248123, ...,  0.17268332,\n",
              "        -1.06324616,  1.18042417],\n",
              "       [-1.12049474, -1.1597562 ,  0.67008046, ...,  0.73724853,\n",
              "        -0.7355513 , -0.85632626],\n",
              "       [-1.12049474,  0.74288962, -3.60442246, ...,  1.47363794,\n",
              "         0.49175869, -0.17740945],\n",
              "       ...,\n",
              "       [ 0.69480658, -1.12856529,  0.46156812, ..., -0.12187245,\n",
              "        -0.27492362,  0.75610116],\n",
              "       [-1.12049474,  0.24383498,  2.12966682, ...,  4.28419085,\n",
              "        -0.46968566, -0.60173245],\n",
              "       [-0.5153943 , -1.25332895,  0.14879962, ..., -0.25687717,\n",
              "         0.23516743, -0.68659705]])"
            ]
          },
          "metadata": {
            "tags": []
          },
          "execution_count": 9
        }
      ]
    },
    {
      "cell_type": "code",
      "metadata": {
        "id": "9avDoNvTsOKq"
      },
      "source": [
        "#split ds into test,train\n",
        "from sklearn.model_selection import train_test_split\n",
        "X_train, X_val_and_test, Y_train, Y_val_and_test = train_test_split(X, Y, test_size=0.3)\n",
        "#X_train,X_test,Y_train,Y_test = train_test_split(X,Y,test_size = 0.3,random_state = 0)"
      ],
      "execution_count": 10,
      "outputs": []
    },
    {
      "cell_type": "code",
      "metadata": {
        "id": "KbTSrzy2teBG"
      },
      "source": [
        "X_val, X_test, Y_val, Y_test = train_test_split(X_val_and_test, Y_val_and_test, test_size=0.5)"
      ],
      "execution_count": 11,
      "outputs": []
    },
    {
      "cell_type": "code",
      "metadata": {
        "colab": {
          "base_uri": "https://localhost:8080/"
        },
        "id": "X3AMVIuvth-x",
        "outputId": "d20db6e0-4c5d-46b9-e833-48a156fe2e1d"
      },
      "source": [
        "print(X_train.shape, X_val.shape, X_test.shape, Y_train.shape, Y_val.shape, Y_test.shape)"
      ],
      "execution_count": 12,
      "outputs": [
        {
          "output_type": "stream",
          "text": [
            "(1400, 8) (300, 8) (300, 8) (1400,) (300,) (300,)\n"
          ],
          "name": "stdout"
        }
      ]
    },
    {
      "cell_type": "code",
      "metadata": {
        "colab": {
          "base_uri": "https://localhost:8080/"
        },
        "id": "fIB9JMT_tu8g",
        "outputId": "d736d69e-824f-44d0-a2ae-1f56d169ad2d"
      },
      "source": [
        "#build ann now\n",
        "#first import keras\n",
        "from keras.models import Sequential\n",
        "from keras.layers import Dense\n",
        "#keras sequential model///store model in variable and describe layer by layer \n",
        "model = Sequential([\n",
        "    Dense(32, activation='relu', input_shape=(8,)),   #first layer with 32 neurons and 26 input features(columns)\n",
        "    Dense(32, activation='relu'),     #second layer\n",
        "    Dense(1, activation='sigmoid'),  #third layer with 2 neuron and sigmoid active.\n",
        "])\n",
        "model.summary()"
      ],
      "execution_count": 14,
      "outputs": [
        {
          "output_type": "stream",
          "text": [
            "Model: \"sequential_1\"\n",
            "_________________________________________________________________\n",
            "Layer (type)                 Output Shape              Param #   \n",
            "=================================================================\n",
            "dense_3 (Dense)              (None, 32)                288       \n",
            "_________________________________________________________________\n",
            "dense_4 (Dense)              (None, 32)                1056      \n",
            "_________________________________________________________________\n",
            "dense_5 (Dense)              (None, 1)                 33        \n",
            "=================================================================\n",
            "Total params: 1,377\n",
            "Trainable params: 1,377\n",
            "Non-trainable params: 0\n",
            "_________________________________________________________________\n"
          ],
          "name": "stdout"
        }
      ]
    },
    {
      "cell_type": "code",
      "metadata": {
        "id": "Wz27kq0WvUag"
      },
      "source": [
        "#configure the model, which optimizer algo,loss function, and metrics we use\n",
        "model.compile(optimizer='adam',loss='binary_crossentropy', metrics=['accuracy'])"
      ],
      "execution_count": 15,
      "outputs": []
    },
    {
      "cell_type": "code",
      "metadata": {
        "colab": {
          "base_uri": "https://localhost:8080/"
        },
        "id": "IuNz936Kzf4Q",
        "outputId": "27b92c62-1080-442d-c1a7-04ba0bf19e34"
      },
      "source": [
        "hist = model.fit(X_train, Y_train,\n",
        "          batch_size=32, epochs=100,\n",
        "          validation_data=(X_val, Y_val))"
      ],
      "execution_count": 16,
      "outputs": [
        {
          "output_type": "stream",
          "text": [
            "Epoch 1/100\n",
            "44/44 [==============================] - 1s 11ms/step - loss: 0.7461 - accuracy: 0.4543 - val_loss: 0.6046 - val_accuracy: 0.7100\n",
            "Epoch 2/100\n",
            "44/44 [==============================] - 0s 2ms/step - loss: 0.5630 - accuracy: 0.7436 - val_loss: 0.5426 - val_accuracy: 0.7400\n",
            "Epoch 3/100\n",
            "44/44 [==============================] - 0s 3ms/step - loss: 0.5020 - accuracy: 0.7747 - val_loss: 0.5150 - val_accuracy: 0.7367\n",
            "Epoch 4/100\n",
            "44/44 [==============================] - 0s 2ms/step - loss: 0.4679 - accuracy: 0.7984 - val_loss: 0.5052 - val_accuracy: 0.7367\n",
            "Epoch 5/100\n",
            "44/44 [==============================] - 0s 2ms/step - loss: 0.4595 - accuracy: 0.7857 - val_loss: 0.4885 - val_accuracy: 0.7467\n",
            "Epoch 6/100\n",
            "44/44 [==============================] - 0s 3ms/step - loss: 0.4439 - accuracy: 0.8020 - val_loss: 0.4824 - val_accuracy: 0.7533\n",
            "Epoch 7/100\n",
            "44/44 [==============================] - 0s 3ms/step - loss: 0.4436 - accuracy: 0.8023 - val_loss: 0.4733 - val_accuracy: 0.7600\n",
            "Epoch 8/100\n",
            "44/44 [==============================] - 0s 3ms/step - loss: 0.4617 - accuracy: 0.7698 - val_loss: 0.4686 - val_accuracy: 0.7533\n",
            "Epoch 9/100\n",
            "44/44 [==============================] - 0s 3ms/step - loss: 0.4362 - accuracy: 0.7886 - val_loss: 0.4625 - val_accuracy: 0.7567\n",
            "Epoch 10/100\n",
            "44/44 [==============================] - 0s 3ms/step - loss: 0.4280 - accuracy: 0.7946 - val_loss: 0.4588 - val_accuracy: 0.7667\n",
            "Epoch 11/100\n",
            "44/44 [==============================] - 0s 2ms/step - loss: 0.4235 - accuracy: 0.8055 - val_loss: 0.4550 - val_accuracy: 0.7867\n",
            "Epoch 12/100\n",
            "44/44 [==============================] - 0s 2ms/step - loss: 0.4006 - accuracy: 0.8055 - val_loss: 0.4481 - val_accuracy: 0.7700\n",
            "Epoch 13/100\n",
            "44/44 [==============================] - 0s 3ms/step - loss: 0.4004 - accuracy: 0.8095 - val_loss: 0.4501 - val_accuracy: 0.7567\n",
            "Epoch 14/100\n",
            "44/44 [==============================] - 0s 2ms/step - loss: 0.4051 - accuracy: 0.8070 - val_loss: 0.4388 - val_accuracy: 0.7900\n",
            "Epoch 15/100\n",
            "44/44 [==============================] - 0s 2ms/step - loss: 0.4013 - accuracy: 0.8047 - val_loss: 0.4378 - val_accuracy: 0.7767\n",
            "Epoch 16/100\n",
            "44/44 [==============================] - 0s 2ms/step - loss: 0.4116 - accuracy: 0.8096 - val_loss: 0.4353 - val_accuracy: 0.7900\n",
            "Epoch 17/100\n",
            "44/44 [==============================] - 0s 3ms/step - loss: 0.4101 - accuracy: 0.7949 - val_loss: 0.4324 - val_accuracy: 0.7867\n",
            "Epoch 18/100\n",
            "44/44 [==============================] - 0s 3ms/step - loss: 0.3964 - accuracy: 0.8075 - val_loss: 0.4267 - val_accuracy: 0.7833\n",
            "Epoch 19/100\n",
            "44/44 [==============================] - 0s 3ms/step - loss: 0.3865 - accuracy: 0.8156 - val_loss: 0.4253 - val_accuracy: 0.8033\n",
            "Epoch 20/100\n",
            "44/44 [==============================] - 0s 3ms/step - loss: 0.3773 - accuracy: 0.8243 - val_loss: 0.4233 - val_accuracy: 0.7900\n",
            "Epoch 21/100\n",
            "44/44 [==============================] - 0s 3ms/step - loss: 0.3780 - accuracy: 0.8276 - val_loss: 0.4209 - val_accuracy: 0.8100\n",
            "Epoch 22/100\n",
            "44/44 [==============================] - 0s 3ms/step - loss: 0.3746 - accuracy: 0.8243 - val_loss: 0.4184 - val_accuracy: 0.7900\n",
            "Epoch 23/100\n",
            "44/44 [==============================] - 0s 3ms/step - loss: 0.3918 - accuracy: 0.8102 - val_loss: 0.4177 - val_accuracy: 0.7900\n",
            "Epoch 24/100\n",
            "44/44 [==============================] - 0s 3ms/step - loss: 0.3920 - accuracy: 0.8136 - val_loss: 0.4165 - val_accuracy: 0.7933\n",
            "Epoch 25/100\n",
            "44/44 [==============================] - 0s 2ms/step - loss: 0.3405 - accuracy: 0.8385 - val_loss: 0.4113 - val_accuracy: 0.7967\n",
            "Epoch 26/100\n",
            "44/44 [==============================] - 0s 3ms/step - loss: 0.3817 - accuracy: 0.8261 - val_loss: 0.4097 - val_accuracy: 0.8133\n",
            "Epoch 27/100\n",
            "44/44 [==============================] - 0s 3ms/step - loss: 0.3719 - accuracy: 0.8192 - val_loss: 0.4105 - val_accuracy: 0.7967\n",
            "Epoch 28/100\n",
            "44/44 [==============================] - 0s 3ms/step - loss: 0.3503 - accuracy: 0.8370 - val_loss: 0.4040 - val_accuracy: 0.8100\n",
            "Epoch 29/100\n",
            "44/44 [==============================] - 0s 2ms/step - loss: 0.3564 - accuracy: 0.8409 - val_loss: 0.4018 - val_accuracy: 0.8067\n",
            "Epoch 30/100\n",
            "44/44 [==============================] - 0s 3ms/step - loss: 0.3582 - accuracy: 0.8365 - val_loss: 0.4002 - val_accuracy: 0.8200\n",
            "Epoch 31/100\n",
            "44/44 [==============================] - 0s 3ms/step - loss: 0.3631 - accuracy: 0.8208 - val_loss: 0.3998 - val_accuracy: 0.8133\n",
            "Epoch 32/100\n",
            "44/44 [==============================] - 0s 3ms/step - loss: 0.3571 - accuracy: 0.8246 - val_loss: 0.3956 - val_accuracy: 0.8233\n",
            "Epoch 33/100\n",
            "44/44 [==============================] - 0s 3ms/step - loss: 0.3363 - accuracy: 0.8524 - val_loss: 0.3911 - val_accuracy: 0.8200\n",
            "Epoch 34/100\n",
            "44/44 [==============================] - 0s 3ms/step - loss: 0.3673 - accuracy: 0.8342 - val_loss: 0.3924 - val_accuracy: 0.8167\n",
            "Epoch 35/100\n",
            "44/44 [==============================] - 0s 2ms/step - loss: 0.3247 - accuracy: 0.8632 - val_loss: 0.3919 - val_accuracy: 0.8033\n",
            "Epoch 36/100\n",
            "44/44 [==============================] - 0s 3ms/step - loss: 0.3485 - accuracy: 0.8377 - val_loss: 0.3875 - val_accuracy: 0.8167\n",
            "Epoch 37/100\n",
            "44/44 [==============================] - 0s 3ms/step - loss: 0.3248 - accuracy: 0.8541 - val_loss: 0.3875 - val_accuracy: 0.8300\n",
            "Epoch 38/100\n",
            "44/44 [==============================] - 0s 3ms/step - loss: 0.3376 - accuracy: 0.8322 - val_loss: 0.3843 - val_accuracy: 0.8200\n",
            "Epoch 39/100\n",
            "44/44 [==============================] - 0s 3ms/step - loss: 0.3159 - accuracy: 0.8544 - val_loss: 0.3812 - val_accuracy: 0.8233\n",
            "Epoch 40/100\n",
            "44/44 [==============================] - 0s 3ms/step - loss: 0.3212 - accuracy: 0.8561 - val_loss: 0.3799 - val_accuracy: 0.8233\n",
            "Epoch 41/100\n",
            "44/44 [==============================] - 0s 3ms/step - loss: 0.3269 - accuracy: 0.8470 - val_loss: 0.3818 - val_accuracy: 0.8167\n",
            "Epoch 42/100\n",
            "44/44 [==============================] - 0s 3ms/step - loss: 0.3358 - accuracy: 0.8401 - val_loss: 0.3798 - val_accuracy: 0.8233\n",
            "Epoch 43/100\n",
            "44/44 [==============================] - 0s 3ms/step - loss: 0.3344 - accuracy: 0.8528 - val_loss: 0.3778 - val_accuracy: 0.8233\n",
            "Epoch 44/100\n",
            "44/44 [==============================] - 0s 3ms/step - loss: 0.3082 - accuracy: 0.8615 - val_loss: 0.3775 - val_accuracy: 0.8167\n",
            "Epoch 45/100\n",
            "44/44 [==============================] - 0s 2ms/step - loss: 0.3252 - accuracy: 0.8661 - val_loss: 0.3698 - val_accuracy: 0.8367\n",
            "Epoch 46/100\n",
            "44/44 [==============================] - 0s 2ms/step - loss: 0.3094 - accuracy: 0.8642 - val_loss: 0.3704 - val_accuracy: 0.8200\n",
            "Epoch 47/100\n",
            "44/44 [==============================] - 0s 3ms/step - loss: 0.3030 - accuracy: 0.8754 - val_loss: 0.3724 - val_accuracy: 0.8300\n",
            "Epoch 48/100\n",
            "44/44 [==============================] - 0s 2ms/step - loss: 0.2972 - accuracy: 0.8728 - val_loss: 0.3755 - val_accuracy: 0.8333\n",
            "Epoch 49/100\n",
            "44/44 [==============================] - 0s 3ms/step - loss: 0.2953 - accuracy: 0.8729 - val_loss: 0.3811 - val_accuracy: 0.8200\n",
            "Epoch 50/100\n",
            "44/44 [==============================] - 0s 3ms/step - loss: 0.3125 - accuracy: 0.8589 - val_loss: 0.3680 - val_accuracy: 0.8233\n",
            "Epoch 51/100\n",
            "44/44 [==============================] - 0s 3ms/step - loss: 0.2929 - accuracy: 0.8615 - val_loss: 0.3630 - val_accuracy: 0.8433\n",
            "Epoch 52/100\n",
            "44/44 [==============================] - 0s 3ms/step - loss: 0.3052 - accuracy: 0.8670 - val_loss: 0.3648 - val_accuracy: 0.8467\n",
            "Epoch 53/100\n",
            "44/44 [==============================] - 0s 3ms/step - loss: 0.2755 - accuracy: 0.8846 - val_loss: 0.3616 - val_accuracy: 0.8367\n",
            "Epoch 54/100\n",
            "44/44 [==============================] - 0s 2ms/step - loss: 0.2880 - accuracy: 0.8835 - val_loss: 0.3672 - val_accuracy: 0.8433\n",
            "Epoch 55/100\n",
            "44/44 [==============================] - 0s 3ms/step - loss: 0.2864 - accuracy: 0.8703 - val_loss: 0.3647 - val_accuracy: 0.8267\n",
            "Epoch 56/100\n",
            "44/44 [==============================] - 0s 3ms/step - loss: 0.2925 - accuracy: 0.8625 - val_loss: 0.3718 - val_accuracy: 0.8533\n",
            "Epoch 57/100\n",
            "44/44 [==============================] - 0s 3ms/step - loss: 0.2913 - accuracy: 0.8720 - val_loss: 0.3616 - val_accuracy: 0.8367\n",
            "Epoch 58/100\n",
            "44/44 [==============================] - 0s 3ms/step - loss: 0.2829 - accuracy: 0.8769 - val_loss: 0.3583 - val_accuracy: 0.8400\n",
            "Epoch 59/100\n",
            "44/44 [==============================] - 0s 3ms/step - loss: 0.2783 - accuracy: 0.8795 - val_loss: 0.3614 - val_accuracy: 0.8533\n",
            "Epoch 60/100\n",
            "44/44 [==============================] - 0s 3ms/step - loss: 0.2710 - accuracy: 0.8883 - val_loss: 0.3579 - val_accuracy: 0.8467\n",
            "Epoch 61/100\n",
            "44/44 [==============================] - 0s 3ms/step - loss: 0.2746 - accuracy: 0.8785 - val_loss: 0.3547 - val_accuracy: 0.8567\n",
            "Epoch 62/100\n",
            "44/44 [==============================] - 0s 3ms/step - loss: 0.2841 - accuracy: 0.8774 - val_loss: 0.3512 - val_accuracy: 0.8500\n",
            "Epoch 63/100\n",
            "44/44 [==============================] - 0s 3ms/step - loss: 0.2663 - accuracy: 0.8964 - val_loss: 0.3518 - val_accuracy: 0.8567\n",
            "Epoch 64/100\n",
            "44/44 [==============================] - 0s 3ms/step - loss: 0.2638 - accuracy: 0.8918 - val_loss: 0.3515 - val_accuracy: 0.8533\n",
            "Epoch 65/100\n",
            "44/44 [==============================] - 0s 3ms/step - loss: 0.2542 - accuracy: 0.8988 - val_loss: 0.3510 - val_accuracy: 0.8533\n",
            "Epoch 66/100\n",
            "44/44 [==============================] - 0s 3ms/step - loss: 0.2586 - accuracy: 0.8920 - val_loss: 0.3546 - val_accuracy: 0.8533\n",
            "Epoch 67/100\n",
            "44/44 [==============================] - 0s 3ms/step - loss: 0.2607 - accuracy: 0.8954 - val_loss: 0.3436 - val_accuracy: 0.8600\n",
            "Epoch 68/100\n",
            "44/44 [==============================] - 0s 3ms/step - loss: 0.2461 - accuracy: 0.9088 - val_loss: 0.3401 - val_accuracy: 0.8633\n",
            "Epoch 69/100\n",
            "44/44 [==============================] - 0s 3ms/step - loss: 0.2614 - accuracy: 0.8878 - val_loss: 0.3466 - val_accuracy: 0.8633\n",
            "Epoch 70/100\n",
            "44/44 [==============================] - 0s 3ms/step - loss: 0.2519 - accuracy: 0.9026 - val_loss: 0.3488 - val_accuracy: 0.8533\n",
            "Epoch 71/100\n",
            "44/44 [==============================] - 0s 3ms/step - loss: 0.2400 - accuracy: 0.9077 - val_loss: 0.3400 - val_accuracy: 0.8633\n",
            "Epoch 72/100\n",
            "44/44 [==============================] - 0s 2ms/step - loss: 0.2474 - accuracy: 0.8998 - val_loss: 0.3402 - val_accuracy: 0.8533\n",
            "Epoch 73/100\n",
            "44/44 [==============================] - 0s 3ms/step - loss: 0.2298 - accuracy: 0.9174 - val_loss: 0.3429 - val_accuracy: 0.8600\n",
            "Epoch 74/100\n",
            "44/44 [==============================] - 0s 3ms/step - loss: 0.2219 - accuracy: 0.9117 - val_loss: 0.3351 - val_accuracy: 0.8667\n",
            "Epoch 75/100\n",
            "44/44 [==============================] - 0s 3ms/step - loss: 0.2284 - accuracy: 0.9105 - val_loss: 0.3515 - val_accuracy: 0.8333\n",
            "Epoch 76/100\n",
            "44/44 [==============================] - 0s 2ms/step - loss: 0.2314 - accuracy: 0.9041 - val_loss: 0.3361 - val_accuracy: 0.8600\n",
            "Epoch 77/100\n",
            "44/44 [==============================] - 0s 3ms/step - loss: 0.2525 - accuracy: 0.9116 - val_loss: 0.3437 - val_accuracy: 0.8533\n",
            "Epoch 78/100\n",
            "44/44 [==============================] - 0s 2ms/step - loss: 0.2294 - accuracy: 0.9144 - val_loss: 0.3356 - val_accuracy: 0.8633\n",
            "Epoch 79/100\n",
            "44/44 [==============================] - 0s 3ms/step - loss: 0.2335 - accuracy: 0.9018 - val_loss: 0.3311 - val_accuracy: 0.8700\n",
            "Epoch 80/100\n",
            "44/44 [==============================] - 0s 3ms/step - loss: 0.2296 - accuracy: 0.9183 - val_loss: 0.3253 - val_accuracy: 0.8700\n",
            "Epoch 81/100\n",
            "44/44 [==============================] - 0s 2ms/step - loss: 0.2241 - accuracy: 0.9182 - val_loss: 0.3301 - val_accuracy: 0.8667\n",
            "Epoch 82/100\n",
            "44/44 [==============================] - 0s 3ms/step - loss: 0.2284 - accuracy: 0.9166 - val_loss: 0.3301 - val_accuracy: 0.8633\n",
            "Epoch 83/100\n",
            "44/44 [==============================] - 0s 3ms/step - loss: 0.2158 - accuracy: 0.9179 - val_loss: 0.3290 - val_accuracy: 0.8667\n",
            "Epoch 84/100\n",
            "44/44 [==============================] - 0s 3ms/step - loss: 0.2180 - accuracy: 0.9258 - val_loss: 0.3238 - val_accuracy: 0.8767\n",
            "Epoch 85/100\n",
            "44/44 [==============================] - 0s 3ms/step - loss: 0.2186 - accuracy: 0.9179 - val_loss: 0.3269 - val_accuracy: 0.8700\n",
            "Epoch 86/100\n",
            "44/44 [==============================] - 0s 3ms/step - loss: 0.2014 - accuracy: 0.9311 - val_loss: 0.3288 - val_accuracy: 0.8667\n",
            "Epoch 87/100\n",
            "44/44 [==============================] - 0s 3ms/step - loss: 0.2347 - accuracy: 0.9170 - val_loss: 0.3261 - val_accuracy: 0.8600\n",
            "Epoch 88/100\n",
            "44/44 [==============================] - 0s 3ms/step - loss: 0.2289 - accuracy: 0.9257 - val_loss: 0.3257 - val_accuracy: 0.8600\n",
            "Epoch 89/100\n",
            "44/44 [==============================] - 0s 3ms/step - loss: 0.2013 - accuracy: 0.9230 - val_loss: 0.3228 - val_accuracy: 0.8633\n",
            "Epoch 90/100\n",
            "44/44 [==============================] - 0s 3ms/step - loss: 0.2142 - accuracy: 0.9258 - val_loss: 0.3168 - val_accuracy: 0.8767\n",
            "Epoch 91/100\n",
            "44/44 [==============================] - 0s 2ms/step - loss: 0.2103 - accuracy: 0.9222 - val_loss: 0.3175 - val_accuracy: 0.8633\n",
            "Epoch 92/100\n",
            "44/44 [==============================] - 0s 3ms/step - loss: 0.2060 - accuracy: 0.9217 - val_loss: 0.3157 - val_accuracy: 0.8600\n",
            "Epoch 93/100\n",
            "44/44 [==============================] - 0s 3ms/step - loss: 0.1951 - accuracy: 0.9291 - val_loss: 0.3191 - val_accuracy: 0.8667\n",
            "Epoch 94/100\n",
            "44/44 [==============================] - 0s 3ms/step - loss: 0.2039 - accuracy: 0.9310 - val_loss: 0.3161 - val_accuracy: 0.8667\n",
            "Epoch 95/100\n",
            "44/44 [==============================] - 0s 3ms/step - loss: 0.1949 - accuracy: 0.9329 - val_loss: 0.3124 - val_accuracy: 0.8700\n",
            "Epoch 96/100\n",
            "44/44 [==============================] - 0s 3ms/step - loss: 0.1896 - accuracy: 0.9402 - val_loss: 0.3127 - val_accuracy: 0.8733\n",
            "Epoch 97/100\n",
            "44/44 [==============================] - 0s 3ms/step - loss: 0.1975 - accuracy: 0.9321 - val_loss: 0.3113 - val_accuracy: 0.8867\n",
            "Epoch 98/100\n",
            "44/44 [==============================] - 0s 2ms/step - loss: 0.1910 - accuracy: 0.9311 - val_loss: 0.3125 - val_accuracy: 0.8600\n",
            "Epoch 99/100\n",
            "44/44 [==============================] - 0s 3ms/step - loss: 0.2002 - accuracy: 0.9290 - val_loss: 0.3249 - val_accuracy: 0.8633\n",
            "Epoch 100/100\n",
            "44/44 [==============================] - 0s 3ms/step - loss: 0.1968 - accuracy: 0.9395 - val_loss: 0.3112 - val_accuracy: 0.8633\n"
          ],
          "name": "stdout"
        }
      ]
    },
    {
      "cell_type": "code",
      "metadata": {
        "colab": {
          "base_uri": "https://localhost:8080/"
        },
        "id": "jI8AsD6MXwnY",
        "outputId": "0e1cd72f-72d6-48ef-9413-c5de168f5062"
      },
      "source": [
        "loss,accuracy = model.evaluate(X_test, Y_test)"
      ],
      "execution_count": 17,
      "outputs": [
        {
          "output_type": "stream",
          "text": [
            "10/10 [==============================] - 0s 1ms/step - loss: 0.2462 - accuracy: 0.8833\n"
          ],
          "name": "stdout"
        }
      ]
    },
    {
      "cell_type": "code",
      "metadata": {
        "colab": {
          "base_uri": "https://localhost:8080/"
        },
        "id": "6GdFS-buuzOf",
        "outputId": "7a123127-60d2-4277-f428-2ed0abcc05f8"
      },
      "source": [
        "\n",
        "print('Loss: %.2f' % loss)\n",
        "print('Accuracy is:', accuracy*100)"
      ],
      "execution_count": 18,
      "outputs": [
        {
          "output_type": "stream",
          "text": [
            "Loss: 0.25\n",
            "Accuracy is: 88.33333253860474\n"
          ],
          "name": "stdout"
        }
      ]
    },
    {
      "cell_type": "code",
      "metadata": {
        "colab": {
          "base_uri": "https://localhost:8080/"
        },
        "id": "xTTw9noL4GXj",
        "outputId": "d84015b7-6513-4753-9c2c-3b0022215f80"
      },
      "source": [
        "predic=model.predict(X)\n",
        "print(X)\n",
        "print(\"X=%s, Predicted=%s\" % (X[0], Y[0]))"
      ],
      "execution_count": 19,
      "outputs": [
        {
          "output_type": "stream",
          "text": [
            "[[-0.5153943   0.52455322 -0.37248123 ...  0.17268332 -1.06324616\n",
            "   1.18042417]\n",
            " [-1.12049474 -1.1597562   0.67008046 ...  0.73724853 -0.7355513\n",
            "  -0.85632626]\n",
            " [-1.12049474  0.74288962 -3.60442246 ...  1.47363794  0.49175869\n",
            "  -0.17740945]\n",
            " ...\n",
            " [ 0.69480658 -1.12856529  0.46156812 ... -0.12187245 -0.27492362\n",
            "   0.75610116]\n",
            " [-1.12049474  0.24383498  2.12966682 ...  4.28419085 -0.46968566\n",
            "  -0.60173245]\n",
            " [-0.5153943  -1.25332895  0.14879962 ... -0.25687717  0.23516743\n",
            "  -0.68659705]]\n",
            "X=[-0.5153943   0.52455322 -0.37248123  0.87364499 -0.72201552  0.17268332\n",
            " -1.06324616  1.18042417], Predicted=1.0\n"
          ],
          "name": "stdout"
        }
      ]
    },
    {
      "cell_type": "code",
      "metadata": {
        "colab": {
          "base_uri": "https://localhost:8080/",
          "height": 295
        },
        "id": "MmB0NnfeYSAj",
        "outputId": "0664af97-fa41-4918-f967-19fd40ea856c"
      },
      "source": [
        "import matplotlib.pyplot as plt\n",
        "plt.plot(hist.history['accuracy'])\n",
        "plt.plot(hist.history['val_accuracy'])\n",
        "plt.title('Model accuracy')\n",
        "plt.ylabel('Accuracy')\n",
        "plt.xlabel('Epoch')\n",
        "plt.legend(['Train', 'Val'], loc='lower right')\n",
        "plt.show()"
      ],
      "execution_count": 20,
      "outputs": [
        {
          "output_type": "display_data",
          "data": {
            "image/png": "[encoded data removed]",
            "text/plain": [
              "<Figure size 432x288 with 1 Axes>"
            ]
          },
          "metadata": {
            "tags": [],
            "needs_background": "light"
          }
        }
      ]
    },
    {
      "cell_type": "code",
      "metadata": {
        "colab": {
          "base_uri": "https://localhost:8080/",
          "height": 295
        },
        "id": "MF35F4OQYDgP",
        "outputId": "972e94c7-0d24-4653-8ae1-0b3fe5332fa4"
      },
      "source": [
        "\n",
        "plt.plot(hist.history['loss'])\n",
        "plt.plot(hist.history['val_loss'])\n",
        "plt.title('Model loss')\n",
        "plt.ylabel('Loss')\n",
        "plt.xlabel('Epoch')\n",
        "plt.legend(['Train', 'Val'], loc='upper right')\n",
        "plt.show()"
      ],
      "execution_count": 21,
      "outputs": [
        {
          "output_type": "display_data",
          "data": {
            "image/png": "[encoded data removed]",
            "text/plain": [
              "<Figure size 432x288 with 1 Axes>"
            ]
          },
          "metadata": {
            "tags": [],
            "needs_background": "light"
          }
        }
      ]
    },
    {
      "cell_type": "code",
      "metadata": {
        "id": "DwI-rcowv0op"
      },
      "source": [
        "import tensorflow\n",
        "import keras\n",
        "\n",
        "#from numpy import loadtxt\n",
        "from tensorflow.keras.models import Sequential\n",
        "from tensorflow.keras.layers import Dense\n",
        "from tensorflow.keras import backend\n",
        "\n"
      ],
      "execution_count": 22,
      "outputs": []
    },
    {
      "cell_type": "code",
      "metadata": {
        "id": "XGWkCBeSvZlT"
      },
      "source": [
        "# define the keras model\n",
        "model = Sequential()\n",
        "model.add(Dense(32, input_dim=8, activation='relu'))\n",
        "model.add(Dense(32, activation='relu'))\n",
        "model.add(Dense(1, activation='linear'))\n",
        "\n"
      ],
      "execution_count": 24,
      "outputs": []
    },
    {
      "cell_type": "code",
      "metadata": {
        "colab": {
          "base_uri": "https://localhost:8080/"
        },
        "id": "LlOLM4Siw-e2",
        "outputId": "e1366234-ecfe-4dbd-c4e5-dec3a0b2468d"
      },
      "source": [
        "model.compile(loss='mean_squared_error', optimizer='adam',metrics=['mse'])\n",
        "model.summary()"
      ],
      "execution_count": 25,
      "outputs": [
        {
          "output_type": "stream",
          "text": [
            "Model: \"sequential_3\"\n",
            "_________________________________________________________________\n",
            "Layer (type)                 Output Shape              Param #   \n",
            "=================================================================\n",
            "dense_9 (Dense)              (None, 32)                288       \n",
            "_________________________________________________________________\n",
            "dense_10 (Dense)             (None, 32)                1056      \n",
            "_________________________________________________________________\n",
            "dense_11 (Dense)             (None, 1)                 33        \n",
            "=================================================================\n",
            "Total params: 1,377\n",
            "Trainable params: 1,377\n",
            "Non-trainable params: 0\n",
            "_________________________________________________________________\n"
          ],
          "name": "stdout"
        }
      ]
    },
    {
      "cell_type": "code",
      "metadata": {
        "colab": {
          "base_uri": "https://localhost:8080/"
        },
        "id": "njYybf8xxLu7",
        "outputId": "5b217359-5ac6-451a-cbad-c5d16c196e96"
      },
      "source": [
        "model.fit(X, Y, epochs=100, batch_size=32)\n"
      ],
      "execution_count": 26,
      "outputs": [
        {
          "output_type": "stream",
          "text": [
            "Epoch 1/100\n",
            "63/63 [==============================] - 0s 1ms/step - loss: 0.2125 - mse: 0.2125\n",
            "Epoch 2/100\n",
            "63/63 [==============================] - 0s 1ms/step - loss: 0.1651 - mse: 0.1651\n",
            "Epoch 3/100\n",
            "63/63 [==============================] - 0s 1ms/step - loss: 0.1553 - mse: 0.1553\n",
            "Epoch 4/100\n",
            "63/63 [==============================] - 0s 1ms/step - loss: 0.1387 - mse: 0.1387\n",
            "Epoch 5/100\n",
            "63/63 [==============================] - 0s 1ms/step - loss: 0.1378 - mse: 0.1378\n",
            "Epoch 6/100\n",
            "63/63 [==============================] - 0s 1ms/step - loss: 0.1269 - mse: 0.1269\n",
            "Epoch 7/100\n",
            "63/63 [==============================] - 0s 2ms/step - loss: 0.1199 - mse: 0.1199\n",
            "Epoch 8/100\n",
            "63/63 [==============================] - 0s 1ms/step - loss: 0.1243 - mse: 0.1243\n",
            "Epoch 9/100\n",
            "63/63 [==============================] - 0s 2ms/step - loss: 0.1282 - mse: 0.1282\n",
            "Epoch 10/100\n",
            "63/63 [==============================] - 0s 1ms/step - loss: 0.1175 - mse: 0.1175\n",
            "Epoch 11/100\n",
            "63/63 [==============================] - 0s 1ms/step - loss: 0.1173 - mse: 0.1173\n",
            "Epoch 12/100\n",
            "63/63 [==============================] - 0s 1ms/step - loss: 0.1176 - mse: 0.1176\n",
            "Epoch 13/100\n",
            "63/63 [==============================] - 0s 1ms/step - loss: 0.1090 - mse: 0.1090\n",
            "Epoch 14/100\n",
            "63/63 [==============================] - 0s 1ms/step - loss: 0.1098 - mse: 0.1098\n",
            "Epoch 15/100\n",
            "63/63 [==============================] - 0s 1ms/step - loss: 0.1032 - mse: 0.1032\n",
            "Epoch 16/100\n",
            "63/63 [==============================] - 0s 2ms/step - loss: 0.1075 - mse: 0.1075\n",
            "Epoch 17/100\n",
            "63/63 [==============================] - 0s 2ms/step - loss: 0.1056 - mse: 0.1056\n",
            "Epoch 18/100\n",
            "63/63 [==============================] - 0s 2ms/step - loss: 0.1054 - mse: 0.1054\n",
            "Epoch 19/100\n",
            "63/63 [==============================] - 0s 1ms/step - loss: 0.1004 - mse: 0.1004\n",
            "Epoch 20/100\n",
            "63/63 [==============================] - 0s 1ms/step - loss: 0.0962 - mse: 0.0962\n",
            "Epoch 21/100\n",
            "63/63 [==============================] - 0s 2ms/step - loss: 0.0975 - mse: 0.0975\n",
            "Epoch 22/100\n",
            "63/63 [==============================] - 0s 2ms/step - loss: 0.0933 - mse: 0.0933\n",
            "Epoch 23/100\n",
            "63/63 [==============================] - 0s 2ms/step - loss: 0.0929 - mse: 0.0929\n",
            "Epoch 24/100\n",
            "63/63 [==============================] - 0s 2ms/step - loss: 0.0933 - mse: 0.0933\n",
            "Epoch 25/100\n",
            "63/63 [==============================] - 0s 1ms/step - loss: 0.0909 - mse: 0.0909\n",
            "Epoch 26/100\n",
            "63/63 [==============================] - 0s 2ms/step - loss: 0.0891 - mse: 0.0891\n",
            "Epoch 27/100\n",
            "63/63 [==============================] - 0s 1ms/step - loss: 0.0914 - mse: 0.0914\n",
            "Epoch 28/100\n",
            "63/63 [==============================] - 0s 1ms/step - loss: 0.0910 - mse: 0.0910\n",
            "Epoch 29/100\n",
            "63/63 [==============================] - 0s 1ms/step - loss: 0.0855 - mse: 0.0855\n",
            "Epoch 30/100\n",
            "63/63 [==============================] - 0s 1ms/step - loss: 0.0884 - mse: 0.0884\n",
            "Epoch 31/100\n",
            "63/63 [==============================] - 0s 1ms/step - loss: 0.0787 - mse: 0.0787\n",
            "Epoch 32/100\n",
            "63/63 [==============================] - 0s 1ms/step - loss: 0.0819 - mse: 0.0819\n",
            "Epoch 33/100\n",
            "63/63 [==============================] - 0s 1ms/step - loss: 0.0785 - mse: 0.0785\n",
            "Epoch 34/100\n",
            "63/63 [==============================] - 0s 1ms/step - loss: 0.0808 - mse: 0.0808\n",
            "Epoch 35/100\n",
            "63/63 [==============================] - 0s 1ms/step - loss: 0.0769 - mse: 0.0769\n",
            "Epoch 36/100\n",
            "63/63 [==============================] - 0s 1ms/step - loss: 0.0814 - mse: 0.0814\n",
            "Epoch 37/100\n",
            "63/63 [==============================] - 0s 1ms/step - loss: 0.0714 - mse: 0.0714\n",
            "Epoch 38/100\n",
            "63/63 [==============================] - 0s 1ms/step - loss: 0.0783 - mse: 0.0783\n",
            "Epoch 39/100\n",
            "63/63 [==============================] - 0s 1ms/step - loss: 0.0790 - mse: 0.0790\n",
            "Epoch 40/100\n",
            "63/63 [==============================] - 0s 1ms/step - loss: 0.0798 - mse: 0.0798\n",
            "Epoch 41/100\n",
            "63/63 [==============================] - 0s 1ms/step - loss: 0.0727 - mse: 0.0727\n",
            "Epoch 42/100\n",
            "63/63 [==============================] - 0s 1ms/step - loss: 0.0646 - mse: 0.0646\n",
            "Epoch 43/100\n",
            "63/63 [==============================] - 0s 1ms/step - loss: 0.0677 - mse: 0.0677\n",
            "Epoch 44/100\n",
            "63/63 [==============================] - 0s 1ms/step - loss: 0.0684 - mse: 0.0684\n",
            "Epoch 45/100\n",
            "63/63 [==============================] - 0s 1ms/step - loss: 0.0664 - mse: 0.0664\n",
            "Epoch 46/100\n",
            "63/63 [==============================] - 0s 1ms/step - loss: 0.0667 - mse: 0.0667\n",
            "Epoch 47/100\n",
            "63/63 [==============================] - 0s 1ms/step - loss: 0.0691 - mse: 0.0691\n",
            "Epoch 48/100\n",
            "63/63 [==============================] - 0s 1ms/step - loss: 0.0681 - mse: 0.0681\n",
            "Epoch 49/100\n",
            "63/63 [==============================] - 0s 1ms/step - loss: 0.0643 - mse: 0.0643\n",
            "Epoch 50/100\n",
            "63/63 [==============================] - 0s 1ms/step - loss: 0.0656 - mse: 0.0656\n",
            "Epoch 51/100\n",
            "63/63 [==============================] - 0s 1ms/step - loss: 0.0634 - mse: 0.0634\n",
            "Epoch 52/100\n",
            "63/63 [==============================] - 0s 1ms/step - loss: 0.0659 - mse: 0.0659\n",
            "Epoch 53/100\n",
            "63/63 [==============================] - 0s 2ms/step - loss: 0.0685 - mse: 0.0685\n",
            "Epoch 54/100\n",
            "63/63 [==============================] - 0s 1ms/step - loss: 0.0626 - mse: 0.0626\n",
            "Epoch 55/100\n",
            "63/63 [==============================] - 0s 1ms/step - loss: 0.0631 - mse: 0.0631\n",
            "Epoch 56/100\n",
            "63/63 [==============================] - 0s 1ms/step - loss: 0.0622 - mse: 0.0622\n",
            "Epoch 57/100\n",
            "63/63 [==============================] - 0s 1ms/step - loss: 0.0577 - mse: 0.0577\n",
            "Epoch 58/100\n",
            "63/63 [==============================] - 0s 1ms/step - loss: 0.0582 - mse: 0.0582\n",
            "Epoch 59/100\n",
            "63/63 [==============================] - 0s 1ms/step - loss: 0.0618 - mse: 0.0618\n",
            "Epoch 60/100\n",
            "63/63 [==============================] - 0s 1ms/step - loss: 0.0578 - mse: 0.0578\n",
            "Epoch 61/100\n",
            "63/63 [==============================] - 0s 1ms/step - loss: 0.0561 - mse: 0.0561\n",
            "Epoch 62/100\n",
            "63/63 [==============================] - 0s 1ms/step - loss: 0.0534 - mse: 0.0534\n",
            "Epoch 63/100\n",
            "63/63 [==============================] - 0s 2ms/step - loss: 0.0564 - mse: 0.0564\n",
            "Epoch 64/100\n",
            "63/63 [==============================] - 0s 1ms/step - loss: 0.0568 - mse: 0.0568\n",
            "Epoch 65/100\n",
            "63/63 [==============================] - 0s 1ms/step - loss: 0.0593 - mse: 0.0593\n",
            "Epoch 66/100\n",
            "63/63 [==============================] - 0s 1ms/step - loss: 0.0511 - mse: 0.0511\n",
            "Epoch 67/100\n",
            "63/63 [==============================] - 0s 1ms/step - loss: 0.0548 - mse: 0.0548\n",
            "Epoch 68/100\n",
            "63/63 [==============================] - 0s 1ms/step - loss: 0.0562 - mse: 0.0562\n",
            "Epoch 69/100\n",
            "63/63 [==============================] - 0s 1ms/step - loss: 0.0502 - mse: 0.0502\n",
            "Epoch 70/100\n",
            "63/63 [==============================] - 0s 1ms/step - loss: 0.0540 - mse: 0.0540\n",
            "Epoch 71/100\n",
            "63/63 [==============================] - 0s 1ms/step - loss: 0.0513 - mse: 0.0513\n",
            "Epoch 72/100\n",
            "63/63 [==============================] - 0s 1ms/step - loss: 0.0528 - mse: 0.0528\n",
            "Epoch 73/100\n",
            "63/63 [==============================] - 0s 2ms/step - loss: 0.0520 - mse: 0.0520\n",
            "Epoch 74/100\n",
            "63/63 [==============================] - 0s 1ms/step - loss: 0.0470 - mse: 0.0470\n",
            "Epoch 75/100\n",
            "63/63 [==============================] - 0s 2ms/step - loss: 0.0485 - mse: 0.0485\n",
            "Epoch 76/100\n",
            "63/63 [==============================] - 0s 1ms/step - loss: 0.0503 - mse: 0.0503\n",
            "Epoch 77/100\n",
            "63/63 [==============================] - 0s 1ms/step - loss: 0.0470 - mse: 0.0470\n",
            "Epoch 78/100\n",
            "63/63 [==============================] - 0s 1ms/step - loss: 0.0494 - mse: 0.0494\n",
            "Epoch 79/100\n",
            "63/63 [==============================] - 0s 1ms/step - loss: 0.0456 - mse: 0.0456\n",
            "Epoch 80/100\n",
            "63/63 [==============================] - 0s 1ms/step - loss: 0.0472 - mse: 0.0472\n",
            "Epoch 81/100\n",
            "63/63 [==============================] - 0s 1ms/step - loss: 0.0454 - mse: 0.0454\n",
            "Epoch 82/100\n",
            "63/63 [==============================] - 0s 1ms/step - loss: 0.0483 - mse: 0.0483\n",
            "Epoch 83/100\n",
            "63/63 [==============================] - 0s 1ms/step - loss: 0.0425 - mse: 0.0425\n",
            "Epoch 84/100\n",
            "63/63 [==============================] - 0s 1ms/step - loss: 0.0431 - mse: 0.0431\n",
            "Epoch 85/100\n",
            "63/63 [==============================] - 0s 1ms/step - loss: 0.0476 - mse: 0.0476\n",
            "Epoch 86/100\n",
            "63/63 [==============================] - 0s 1ms/step - loss: 0.0430 - mse: 0.0430\n",
            "Epoch 87/100\n",
            "63/63 [==============================] - 0s 1ms/step - loss: 0.0439 - mse: 0.0439\n",
            "Epoch 88/100\n",
            "63/63 [==============================] - 0s 1ms/step - loss: 0.0442 - mse: 0.0442\n",
            "Epoch 89/100\n",
            "63/63 [==============================] - 0s 1ms/step - loss: 0.0439 - mse: 0.0439\n",
            "Epoch 90/100\n",
            "63/63 [==============================] - 0s 1ms/step - loss: 0.0403 - mse: 0.0403\n",
            "Epoch 91/100\n",
            "63/63 [==============================] - 0s 1ms/step - loss: 0.0419 - mse: 0.0419\n",
            "Epoch 92/100\n",
            "63/63 [==============================] - 0s 1ms/step - loss: 0.0439 - mse: 0.0439\n",
            "Epoch 93/100\n",
            "63/63 [==============================] - 0s 1ms/step - loss: 0.0395 - mse: 0.0395\n",
            "Epoch 94/100\n",
            "63/63 [==============================] - 0s 1ms/step - loss: 0.0415 - mse: 0.0415\n",
            "Epoch 95/100\n",
            "63/63 [==============================] - 0s 1ms/step - loss: 0.0406 - mse: 0.0406\n",
            "Epoch 96/100\n",
            "63/63 [==============================] - 0s 2ms/step - loss: 0.0416 - mse: 0.0416\n",
            "Epoch 97/100\n",
            "63/63 [==============================] - 0s 1ms/step - loss: 0.0404 - mse: 0.0404\n",
            "Epoch 98/100\n",
            "63/63 [==============================] - 0s 1ms/step - loss: 0.0385 - mse: 0.0385\n",
            "Epoch 99/100\n",
            "63/63 [==============================] - 0s 1ms/step - loss: 0.0401 - mse: 0.0401\n",
            "Epoch 100/100\n",
            "63/63 [==============================] - 0s 1ms/step - loss: 0.0383 - mse: 0.0383\n"
          ],
          "name": "stdout"
        },
        {
          "output_type": "execute_result",
          "data": {
            "text/plain": [
              "<tensorflow.python.keras.callbacks.History at 0x7fa9d9c5d4d0>"
            ]
          },
          "metadata": {
            "tags": []
          },
          "execution_count": 26
        }
      ]
    },
    {
      "cell_type": "code",
      "metadata": {
        "colab": {
          "base_uri": "https://localhost:8080/"
        },
        "id": "w-B0n6qILlvP",
        "outputId": "9d20d707-5312-44ca-e847-17c5d1e0836f"
      },
      "source": [
        "# evaluate the keras model\n",
        "loss,mse = model.evaluate(X, Y)"
      ],
      "execution_count": 27,
      "outputs": [
        {
          "output_type": "stream",
          "text": [
            "63/63 [==============================] - 0s 1ms/step - loss: 0.0410 - mse: 0.0410\n"
          ],
          "name": "stdout"
        }
      ]
    },
    {
      "cell_type": "code",
      "metadata": {
        "colab": {
          "base_uri": "https://localhost:8080/"
        },
        "id": "_K3ZE2WQL2FP",
        "outputId": "e13bd623-f7f8-4b51-daef-e900988011ba"
      },
      "source": [
        "print('Loss: %.2f' % loss)\n",
        "print('mse: %.2f' % mse)\n"
      ],
      "execution_count": 28,
      "outputs": [
        {
          "output_type": "stream",
          "text": [
            "Loss: 0.04\n",
            "mse: 0.04\n"
          ],
          "name": "stdout"
        }
      ]
    },
    {
      "cell_type": "code",
      "metadata": {
        "colab": {
          "base_uri": "https://localhost:8080/"
        },
        "id": "D3nCp96jNKeH",
        "outputId": "97387034-644b-4804-fc27-0a294dc82b12"
      },
      "source": [
        "predic=model.predict(X)\n",
        "print(X)\n",
        "print(\"X=%s, Predicted=%s\" % (X[0], Y[0]))"
      ],
      "execution_count": 29,
      "outputs": [
        {
          "output_type": "stream",
          "text": [
            "[[-0.5153943   0.52455322 -0.37248123 ...  0.17268332 -1.06324616\n",
            "   1.18042417]\n",
            " [-1.12049474 -1.1597562   0.67008046 ...  0.73724853 -0.7355513\n",
            "  -0.85632626]\n",
            " [-1.12049474  0.74288962 -3.60442246 ...  1.47363794  0.49175869\n",
            "  -0.17740945]\n",
            " ...\n",
            " [ 0.69480658 -1.12856529  0.46156812 ... -0.12187245 -0.27492362\n",
            "   0.75610116]\n",
            " [-1.12049474  0.24383498  2.12966682 ...  4.28419085 -0.46968566\n",
            "  -0.60173245]\n",
            " [-0.5153943  -1.25332895  0.14879962 ... -0.25687717  0.23516743\n",
            "  -0.68659705]]\n",
            "X=[-0.5153943   0.52455322 -0.37248123  0.87364499 -0.72201552  0.17268332\n",
            " -1.06324616  1.18042417], Predicted=1.0\n"
          ],
          "name": "stdout"
        }
      ]
    },
    {
      "cell_type": "code",
      "metadata": {
        "colab": {
          "base_uri": "https://localhost:8080/"
        },
        "id": "MXpgWt14Spmb",
        "outputId": "61796318-9009-443d-9d5f-16418ddbbea7"
      },
      "source": [
        "from sklearn.model_selection import StratifiedKFold\n",
        "import numpy\n",
        "# define 10-fold cross validation \n",
        "kfold = StratifiedKFold(n_splits=10, shuffle=True, random_state=8)\n",
        "cvscores = []\n",
        "for train, test in kfold.split(X, Y):\n",
        "\n",
        "  # create model\n",
        "  model = Sequential()\n",
        "  model.add(Dense(32, input_dim=8, activation='relu'))\n",
        "  model.add(Dense(32, activation='relu'))\n",
        "  model.add(Dense(1, activation='sigmoid'))\n",
        "\t# Compile model\n",
        "  model.compile(loss='binary_crossentropy', optimizer='adam', metrics=['accuracy'])\n",
        "\t# Fit the model\n",
        "  model.fit(X[train], Y[train], epochs=100, batch_size=10, verbose=0)\n",
        "\t# evaluate the model\n",
        "  scores = model.evaluate(X[test], Y[test], verbose=0)\n",
        "  print(\"%s: %.2f%%\" % (model.metrics_names[1], scores[1]*100))\n",
        "  cvscores.append(scores[1] * 100)\n",
        "print(\"%.2f%% (+/- %.2f%%)\" % (numpy.mean(cvscores), numpy.std(cvscores)))"
      ],
      "execution_count": 30,
      "outputs": [
        {
          "output_type": "stream",
          "text": [
            "accuracy: 96.50%\n",
            "accuracy: 94.50%\n",
            "accuracy: 95.50%\n",
            "accuracy: 95.50%\n",
            "accuracy: 94.50%\n",
            "accuracy: 94.50%\n",
            "accuracy: 96.50%\n",
            "accuracy: 94.00%\n",
            "accuracy: 95.50%\n",
            "accuracy: 97.50%\n",
            "95.45% (+/- 1.06%)\n"
          ],
          "name": "stdout"
        }
      ]
    }
  ]
}